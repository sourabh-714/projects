{
 "cells": [
  {
   "cell_type": "markdown",
   "metadata": {},
   "source": [
    "project-Covid-19\n",
    "\n",
    "Group members:\n",
    "    Sourabh Sharma(18csu241)\n",

   ]
  },
  {
   "cell_type": "code",
   "execution_count": 1,
   "metadata": {},
   "outputs": [],
   "source": [
    "from sklearn.linear_model import LogisticRegression\n",
    "from sklearn.svm import SVC\n",
    "from sklearn.svm import SVR\n",
    "from sklearn.ensemble import RandomForestRegressor\n",
    "import numpy as np\n",
    "\n",
    "from sklearn.tree import DecisionTreeRegressor\n",
    "import matplotlib.pyplot as plt\n",
    "from sklearn.neighbors import KNeighborsClassifier\n",
    "import pandas as pd\n",
    "import seaborn as sns\n",
    "from sklearn.metrics import mean_squared_error\n",
    "from sklearn import linear_model   \n",
    "from sklearn.metrics import classification_report,r2_score, confusion_matrix,roc_auc_score,roc_curve,auc,f1_score,precision_recall_curve\n"
   ]
  },
  {
   "cell_type": "code",
   "execution_count": 2,
   "metadata": {},
   "outputs": [
    {
     "data": {
      "image/png": "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\n",
      "text/plain": [
       "<Figure size 432x288 with 1 Axes>"
      ]
     },
     "metadata": {
      "needs_background": "light"
     },
     "output_type": "display_data"
    }
   ],
   "source": [
    "#geographcal location wise prediction\n",
    "#importing the dataset1\n",
    "data=pd.read_csv(r\"C:\\Users\\deepanshu\\Desktop\\training_data_with_weather_info_week_2.csv\")\n",
    "\n",
    "X=data.iloc[:,[8,9]]\n",
    "Y=data.iloc[:,[5]]\n",
    "\n",
    "\n",
    "#data cleaning\n",
    "\n",
    "sns.heatmap(data.isnull(),yticklabels=False,cbar=False,cmap='viridis')\n",
    "sns.boxplot(data= X).set_title(\"Outlier Box Plot\")\n",
    "\n",
    "\n",
    "X=X.fillna(0)\n",
    "Y=Y.fillna(0)\n"
   ]
  },
  {
   "cell_type": "code",
   "execution_count": 3,
   "metadata": {},
   "outputs": [
    {
     "name": "stdout",
     "output_type": "stream",
     "text": [
      "                          Id      Id.1  ConfirmedCases  Fatalities  \\\n",
      "Id                  1.000000  1.000000       -0.039519   -0.024115   \n",
      "Id.1                1.000000  1.000000       -0.039519   -0.024115   \n",
      "ConfirmedCases     -0.039519 -0.039519        1.000000    0.891919   \n",
      "Fatalities         -0.024115 -0.024115        0.891919    1.000000   \n",
      "Lat                 0.167004  0.167004        0.050215    0.036228   \n",
      "Long               -0.413488 -0.413488        0.069066    0.043314   \n",
      "day_from_jan_first  0.002279  0.002279        0.098873    0.076736   \n",
      "temp               -0.055991 -0.055991       -0.026305   -0.015861   \n",
      "min                -0.024147 -0.024147       -0.007266   -0.004976   \n",
      "max                -0.004365 -0.004365       -0.003300   -0.002180   \n",
      "stp                -0.042712 -0.042712       -0.052365   -0.034943   \n",
      "wdsp                0.007154  0.007154       -0.012744   -0.009843   \n",
      "prcp                0.031928  0.031928       -0.024117   -0.019205   \n",
      "fog                 0.050106  0.050106        0.001202   -0.004727   \n",
      "\n",
      "                             Lat          Long  day_from_jan_first      temp  \\\n",
      "Id                  1.670037e-01 -4.134883e-01        2.278665e-03 -0.055991   \n",
      "Id.1                1.670037e-01 -4.134883e-01        2.278665e-03 -0.055991   \n",
      "ConfirmedCases      5.021454e-02  6.906615e-02        9.887273e-02 -0.026305   \n",
      "Fatalities          3.622776e-02  4.331385e-02        7.673554e-02 -0.015861   \n",
      "Lat                 1.000000e+00 -2.527908e-01       -8.214899e-19 -0.733713   \n",
      "Long               -2.527908e-01  1.000000e+00        1.970863e-18  0.112059   \n",
      "day_from_jan_first -8.214899e-19  1.970863e-18        1.000000e+00  0.117616   \n",
      "temp               -7.337135e-01  1.120589e-01        1.176163e-01  1.000000   \n",
      "min                -9.636306e-02  2.399509e-02       -9.414796e-03  0.081842   \n",
      "max                -2.878796e-02  8.343448e-04       -7.998110e-03  0.041707   \n",
      "stp                 7.900142e-02 -5.794878e-02       -1.719938e-02 -0.102375   \n",
      "wdsp                4.712282e-02 -1.212852e-02        1.303452e-02 -0.044101   \n",
      "prcp                1.018591e-01 -4.323536e-02       -1.841082e-02 -0.107774   \n",
      "fog                 5.474409e-02 -9.627449e-03       -4.203835e-03 -0.093070   \n",
      "\n",
      "                         min       max       stp      wdsp      prcp       fog  \n",
      "Id                 -0.024147 -0.004365 -0.042712  0.007154  0.031928  0.050106  \n",
      "Id.1               -0.024147 -0.004365 -0.042712  0.007154  0.031928  0.050106  \n",
      "ConfirmedCases     -0.007266 -0.003300 -0.052365 -0.012744 -0.024117  0.001202  \n",
      "Fatalities         -0.004976 -0.002180 -0.034943 -0.009843 -0.019205 -0.004727  \n",
      "Lat                -0.096363 -0.028788  0.079001  0.047123  0.101859  0.054744  \n",
      "Long                0.023995  0.000834 -0.057949 -0.012129 -0.043235 -0.009627  \n",
      "day_from_jan_first -0.009415 -0.007998 -0.017199  0.013035 -0.018411 -0.004204  \n",
      "temp                0.081842  0.041707 -0.102375 -0.044101 -0.107774 -0.093070  \n",
      "min                 1.000000  0.262917  0.043404 -0.010751  0.010598  0.052949  \n",
      "max                 0.262917  1.000000  0.012544 -0.006784  0.013186  0.004184  \n",
      "stp                 0.043404  0.012544  1.000000  0.071085  0.112392 -0.002848  \n",
      "wdsp               -0.010751 -0.006784  0.071085  1.000000 -0.020525 -0.061248  \n",
      "prcp                0.010598  0.013186  0.112392 -0.020525  1.000000  0.402440  \n",
      "fog                 0.052949  0.004184 -0.002848 -0.061248  0.402440  1.000000  \n"
     ]
    },
    {
     "data": {
      "text/plain": [
       "<matplotlib.axes._subplots.AxesSubplot at 0xc584dc8>"
      ]
     },
     "execution_count": 3,
     "metadata": {},
     "output_type": "execute_result"
    },
    {
     "data": {
      "image/png": "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\n",
      "text/plain": [
       "<Figure size 432x288 with 2 Axes>"
      ]
     },
     "metadata": {
      "needs_background": "light"
     },
     "output_type": "display_data"
    }
   ],
   "source": [
    "# check for multicollinearity\n",
    "multicolinearity_check = data.corr()\n",
    "print(multicolinearity_check)\n",
    "\n",
    "sns.heatmap(multicolinearity_check,xticklabels=multicolinearity_check.columns,yticklabels=multicolinearity_check.columns)"
   ]
  },
  {
   "cell_type": "code",
   "execution_count": 4,
   "metadata": {},
   "outputs": [],
   "source": [
    "from sklearn.model_selection import train_test_split\n",
    "X_train, X_test, y_train, y_test = train_test_split(X,Y,test_size=0.3,random_state = 4)\n",
    "\n"
   ]
  },
  {
   "cell_type": "code",
   "execution_count": 5,
   "metadata": {},
   "outputs": [],
   "source": [
    "# Feature Scaling (to be done after splitting)\n",
    "from sklearn.preprocessing import StandardScaler\n",
    "sc = StandardScaler()\n",
    "X_train = sc.fit_transform(X_train)\n",
    "X_test = sc.transform(X_test)"
   ]
  },
  {
   "cell_type": "code",
   "execution_count": 6,
   "metadata": {},
   "outputs": [
    {
     "name": "stdout",
     "output_type": "stream",
     "text": [
      "dcsn tree===== 0.5248532093223017\n",
      "[  7.85714286   0.76595745 284.5        ... 143.43589744  10.15686275\n",
      " 493.04255319]\n",
      "the r2 score is 0.5248532093223017\n"
     ]
    }
   ],
   "source": [
    "#decision tree regressor\n",
    "#Decision Tree\n",
    "\n",
    "d = DecisionTreeRegressor()\n",
    "d.fit(X_train, y_train)\n",
    "print(\"dcsn tree=====\",d.score(X_test, y_test))\n",
    "y_pred = d.predict(X_test)\n",
    "print(y_pred)\n",
    "\n",
    "from sklearn import metrics\n",
    "from sklearn.metrics import r2_score\n",
    "print(\"the r2 score is\",r2_score(y_test,y_pred))\n",
    "\n",
    "\n"
   ]
  },
  {
   "cell_type": "code",
   "execution_count": 7,
   "metadata": {},
   "outputs": [
    {
     "data": {
      "text/plain": [
       "2305.5740509352795"
      ]
     },
     "execution_count": 7,
     "metadata": {},
     "output_type": "execute_result"
    }
   ],
   "source": [
    "r_mse = mean_squared_error(y_test, y_pred)\n",
    "r_rmse = np.sqrt(r_mse)\n",
    "r_rmse"
   ]
  },
  {
   "cell_type": "code",
   "execution_count": 8,
   "metadata": {},
   "outputs": [
    {
     "name": "stdout",
     "output_type": "stream",
     "text": [
      "knn==== 0.4511211129656355\n",
      "the r2 score is 0.4511211129656355\n"
     ]
    },
    {
     "data": {
      "text/plain": [
       "2478.0121890216055"
      ]
     },
     "execution_count": 8,
     "metadata": {},
     "output_type": "execute_result"
    }
   ],
   "source": [
    "from sklearn.neighbors import KNeighborsRegressor\n",
    "k = KNeighborsRegressor(6)\n",
    "k.fit(X_train, y_train)\n",
    "print(\"knn====\",k.score(X_test, y_test))\n",
    "\n",
    "\n",
    "\n",
    "y_pred= k.predict(X_test)\n",
    "\n",
    "from sklearn import metrics\n",
    "from sklearn.metrics import r2_score\n",
    "print(\"the r2 score is\",r2_score(y_test,y_pred))\n",
    "\n",
    "r_mse = mean_squared_error(y_test, y_pred)\n",
    "r_rmse = np.sqrt(r_mse)\n",
    "r_rmse"
   ]
  },
  {
   "cell_type": "code",
   "execution_count": 9,
   "metadata": {},
   "outputs": [
    {
     "name": "stderr",
     "output_type": "stream",
     "text": [
      "C:\\Users\\deepanshu\\Anaconda3\\lib\\site-packages\\sklearn\\utils\\validation.py:724: DataConversionWarning: A column-vector y was passed when a 1d array was expected. Please change the shape of y to (n_samples, ), for example using ravel().\n",
      "  y = column_or_1d(y, warn=True)\n"
     ]
    },
    {
     "name": "stdout",
     "output_type": "stream",
     "text": [
      "svm===== -0.007081160270304254\n",
      "the r2 score is 0.4511211129656355\n"
     ]
    },
    {
     "data": {
      "text/plain": [
       "2478.0121890216055"
      ]
     },
     "execution_count": 9,
     "metadata": {},
     "output_type": "execute_result"
    }
   ],
   "source": [
    "#SVM\n",
    "svm = SVR(gamma='auto')\n",
    "svm.fit(X_train, y_train)\n",
    "print(\"svm=====\",svm.score(X_test, y_test))\n",
    "\n",
    "from sklearn import metrics\n",
    "from sklearn.metrics import r2_score\n",
    "print(\"the r2 score is\",r2_score(y_test,y_pred))\n",
    "\n",
    "r_mse = mean_squared_error(y_test, y_pred)\n",
    "r_rmse = np.sqrt(r_mse)\n",
    "r_rmse\n"
   ]
  },
  {
   "cell_type": "markdown",
   "metadata": {},
   "source": [
    "Outcomes:\n",
    "    We trained the model with longitude and latitude values and give prediction on the confirmed cases\n",
    "    \n",
    "    WE observed that decision tree has greater value of accuracy score,henceit proved to be better model fo the given dataset\n",
    "    "
   ]
  },
  {
   "cell_type": "markdown",
   "metadata": {},
   "source": [
    "### model applied on temperature(min,max) to predict confirmed cases"
   ]
  },
  {
   "cell_type": "code",
   "execution_count": 10,
   "metadata": {},
   "outputs": [
    {
     "name": "stdout",
     "output_type": "stream",
     "text": [
      "dcsn tree===== 0.5248532093223017\n",
      "[  7.85714286   0.76595745 284.5        ... 143.43589744  10.15686275\n",
      " 493.04255319]\n",
      "the r2 score is 0.5248532093223017\n"
     ]
    },
    {
     "data": {
      "text/plain": [
       "2305.5740509352795"
      ]
     },
     "execution_count": 10,
     "metadata": {},
     "output_type": "execute_result"
    }
   ],
   "source": [
    "\n",
    "X=data.iloc[:,[12,13]]\n",
    "Y=data.iloc[:,[5]]\n",
    "\n",
    "\n",
    "X=X.fillna(0)\n",
    "Y=Y.fillna(0)\n",
    "\n",
    "\n",
    "\n",
    "\n",
    "\n",
    "d = DecisionTreeRegressor()\n",
    "d.fit(X_train, y_train)\n",
    "print(\"dcsn tree=====\",d.score(X_test, y_test))\n",
    "y_pred = d.predict(X_test)\n",
    "print(y_pred)\n",
    "\n",
    "from sklearn import metrics\n",
    "from sklearn.metrics import r2_score\n",
    "print(\"the r2 score is\",r2_score(y_test,y_pred))\n",
    "\n",
    "r_mse = mean_squared_error(y_test, y_pred)\n",
    "r_rmse = np.sqrt(r_mse)\n",
    "r_rmse\n",
    "\n"
   ]
  },
  {
   "cell_type": "code",
   "execution_count": 11,
   "metadata": {},
   "outputs": [
    {
     "name": "stderr",
     "output_type": "stream",
     "text": [
      "C:\\Users\\deepanshu\\Anaconda3\\lib\\site-packages\\sklearn\\utils\\validation.py:724: DataConversionWarning: A column-vector y was passed when a 1d array was expected. Please change the shape of y to (n_samples, ), for example using ravel().\n",
      "  y = column_or_1d(y, warn=True)\n"
     ]
    },
    {
     "name": "stdout",
     "output_type": "stream",
     "text": [
      "svm===== -0.007081160270304254\n",
      "the r2 score is 0.5248532093223017\n"
     ]
    },
    {
     "data": {
      "text/plain": [
       "2305.5740509352795"
      ]
     },
     "execution_count": 11,
     "metadata": {},
     "output_type": "execute_result"
    }
   ],
   "source": [
    "\n",
    "\n",
    "#SVM\n",
    "svm = SVR(gamma='auto')\n",
    "svm.fit(X_train, y_train)\n",
    "print(\"svm=====\",svm.score(X_test, y_test))\n",
    "\n",
    "from sklearn import metrics\n",
    "from sklearn.metrics import r2_score\n",
    "print(\"the r2 score is\",r2_score(y_test,y_pred))\n",
    "\n",
    "r_mse = mean_squared_error(y_test, y_pred)\n",
    "r_rmse = np.sqrt(r_mse)\n",
    "r_rmse\n",
    "\n",
    "\n"
   ]
  },
  {
   "cell_type": "code",
   "execution_count": 12,
   "metadata": {},
   "outputs": [
    {
     "data": {
      "image/png": "iVBORw0KGgoAAAANSUhEUgAAAV0AAAENCAYAAACsBrZAAAAABHNCSVQICAgIfAhkiAAAAAlwSFlzAAALEgAACxIB0t1+/AAAADh0RVh0U29mdHdhcmUAbWF0cGxvdGxpYiB2ZXJzaW9uMy4xLjEsIGh0dHA6Ly9tYXRwbG90bGliLm9yZy8QZhcZAAAN+UlEQVR4nO3df6xed13A8fenz+1te1doQ+daB9z9kCA/dJDwh8zwB7IpgmmzoDARRxdj4I9lKllFXYyZCoKERE2TYfSfXYcIouyPKRQ6lGQBJVkijCkjDB0tYlvX2c3bu/a2z/34x3Nue9vc/lyfz7n2+34lzfb86HO+98np+55znud8T2QmkqQaq/oegCS1xOhKUiGjK0mFjK4kFTK6klTI6EpSIaOrsYiIayMiI2Kiu/25iNje97gupYi4JyI+3vc49P+L0RUAEXF7RHwjIuYiYl9EfCwiNl7A338yIm4+0+OZ+ZbMnLlEY10M+mz3Z39E3BsRqy/F65+2rPsiYr5bztMRsTsiXnERr3PW90ftMLoiIu4C/hD4dWAD8HrgGmB3REz2PLaJszy8MTPXAz8K3AjcMaZhfKRbzkuAA8B9Y1qOGmB0GxcRLwR+F7gzM3dl5rHMfBJ4B6Pw/mL3vPsi4gNL/t4bI+J73f/fD0wDD3ZbhO9fZjlfiohfXnL7lyLimxHxPxHx+Yi4ZsljGRF3RMS3gW+f62fIzAPAbuBVS17jld0yD0XEv0bEtu7+yYj4WkTc2d0eRMSXI+J3zmM5c8AngB9Z7vGI2NYt61C37Fee7/ujdhhd/TiwFvjM0jszcxb4HPCT53qBzLwN2ANszcz1mfmRsz0/Im4B7gbeBvwA8DDwV6c97Rbgx1gS0rO83tXAm4F/7m6vBh4EvgBcBdwJ/GVE/HBmzjP6RfJ7XRR/ExgAHzyP5awH3gX8yzKPvbz7GX6t+5k+yyiykxf6/ujyZnR1JfBUZh5f5rH/6h6/1N4LfCgzv9kt9w+A1y7d2u0efzoznzvL6zwVEYeA/wQOA3/T3f96YD3w4cycz8x/AP4OeCdAZj4GfAB4ANgB3JaZw7MsZ0e3nCe61719mefcCvx9Zu7OzGPAR4F1jH6pSScYXT0FXHmGY6c/2D1+qV0D/Em3G34IeBoI4MVLnrP3PF7nyszcCEwBXwZ2dfdfDezNzIUlz/3uaa8/A1wLfDYzz3UI46OZuTEzt2Tmtsz8zjLPubpbBgDdsveetkzJ6Ip/Ao4y2tU/ISKuAN4CfLG76zCjuC3actrrXMh0dXuB93YhW/yzLjO/cjGv120N3wfcGBFXAt8HXhoRS9fvaUZbxIvuZbT1++aIeMMFjP1Mvs/olwkAERHAS5cs0+n8BBjd5mXmM4w+SNsZET8dEasj4lrg08D3gPu7p34NeGtEvCgitjA6drnUfuD681zsnwK/FRGvBoiIDRHx9ov9GSJiDXAbsA84CHyV0S+J93c/zxuBrcAnu+ffBryO0WGCXwFmuuO1z8dfAz8TETd1x5TvYvTLbPEXyYW8P7qMGV3RfbBzN6PjkM8yitZe4KbMPNo97X7g68CTjD6g+tRpL/Mh4Le7QwY7zrG8Bxh9Re2TEfEs8BijreoLdSgiZhkF7UZgW47MA9u613yK0VbtuzPz8YiYBv64uz2bmZ8AHgH+6CKWv/Rn+hajD+h2dsvcyuiDs/nuKef9/ujyFk5iLkl13NKVpEJGV5IKGV1JKmR0JamQ0ZWkQmebwQme5xe6d+7cya5du879xDGam5tjRXxDYwUMAYAhxOwlnwHxgsXsBIN/f75fjb14w+tnyfXLnflcK9cNYbBSVo4VYBjEc4Neh3Ap1s3dC5+OM77+OYLk2nAJPPLII+y4a8foRNeEVV/fwODZXmdMlDRGZ4uuhxcK3HPPPafcXnjVM/0MRFrG8PpZhtfP9j2MZpzr8IIugdnZ2dFWLoz+2//evXTCSjjM0hK3dAusX7/+5IGaBI71ORrpVBlJrj9Orl4495P1vHlMt4DHdHUmK+EDvXzhsdG6OR/Ec/3u/Pb9Aeul4jHdnl133XWn3F7V84otLcrIUXADmMzRbY2V//oLzMzMjPYZui3d4fRhJr7zgr6HpRWg76264y/7X/IFx0+smzE74bo5Zm7pFnjooYdOvtOrIDcfPevzpSp51VHXzWJGt8DNN98Mi59RLEDsX9PreKRFcWCN62Yxo1tg+/btJ28kDPZc0d9gpCUGe6ZO+WaN6+b4Gd0CmzZtgrnBaOV+bkAc823XyhDzA2L/2tHx3H1rXTcL+A4XOHjwIKwbjj6sWDf0+5BaUQZ7pohnVruVW8ToFpiZmTnljLTh9OFexyOpP0a3gN9e0Eo2nJ4jNxxzY6CI0S3gtxe0UuXkkNx8BAJyyxEPfRUwugW2b9/uJ8RakYbTcx76KmZ0C2zatMlPiLUieXJEPf/1F/ETYq1EnhxRz+gWifkBE49udCtXK4onR9SzAFLDPDminrOMSY0b7JliODV0K7eI0ZUat3joSzXcl5CkQkZXkgoZXUkqZHQlqZDRlRqXk0OO33DIeReKGF2pcc4yVsvoSg1zlrF6RldqmLOM1TO6UsOcZaye0ZUa5ixj9Yyu1DBnGatndKWGOctYPSe8kRrnLGO1jK7UOGcZq+W+hCQVMrpS4zwNuJbRlRrnacC1jK7UME8Drmd0pYZ5GnA9oys1zNOA6xldqWGeBlzP6EoN8zTgekZXapinAdfzjDSpcZ4GXMvoSo3zNOBa7ktIUiGjK0mFjK4kFTK6klTI6EpSIaMrSYWMriQVMrpS45zEvJbRlRrnJOa1jK7UMCcxr2d0pYY5iXk9oys1zEnM6xldqWFOYl7P6EoNcxLzekZXapiTmNdzPl2pcU5iXsvoSo1zEvNa7ktIUiGjK0mFjK4kFTK6klTI6EpSIaMrSYWMriQVMrqSVMjoSlIhoys1zsv11DK6UuO8XE8toys1zMv11DO6UsO8XE89oys1zMv11DO6UsO8XE89oys1zMv11DO6UsO8XE89rxwhNc7L9dQyulLjvFxPLfclJKmQ0ZWkQkZXkgoZXUkqZHQlqZDRlaRCRleSChldqXFOYl7L6EqNcxLzWkZXapiTmNczulLDnMS8ntGVGuYk5vWMrtQwJzGvZ3SlhjmJeT2jKzXMSczrOZ+u1DgnMa9ldKXGOYl5LfclJKmQ0ZUa52nAtYyu1DhPA65ldKWGeRpwPaMrNczTgOsZXalhngZcz+hKDfM04HpGV2qYpwHXM7pSwzwNuJ5npEmN8zTgWkZXapynAddyX0KSChldSSpkdCWpkNGVpEJGV5IKGV1JKmR0JamQ0ZWkQkZXkgoZXUkqZHQlqZDRlaRCRleSChldSSpkdCWpkNGVpEJGV5IKGV1JKmR0JamQ0ZWkQkZXkgoZXUkqZHQlqZDRlaRCRleSChldSSpkdKXG5eSQ4zccIlcv9D2UJhhdqXHD6TlywzGG04f7HkoTjK7UsJwckpuPQEBuOeLWbgGjKzVsOD0H0d0I3NotYHSlhuVVR09WYBXk5qO9jqcFRldqWBxYA4tHFBYg9q/pdTwtMLpSwwZ7piC7GwmDPVf0Op4WGF2pYTE/IPavhYTYt5Y4ZhLGbaLvAUjq12DPFMOpoVu5RYyu1LiYHzDx6Ma+h9EM9yUkqZDRlaRCRleSChldSSpkdCWpkNGVpEJGV5IKGV1JKmR0JamQ0ZWkQkZXkgoZXUkqZHQlqZDRlaRCRleSChldqXE5OeT4DYe8/HoRoys1bjg9R2445uXXixhdqWE5OSQ3H4GA3HLErd0CRldq2HB6DqK7Ebi1W8DoSg3Lq46erMAqyM1Hex1PC4yu1LA4sAYWjygsQOxf0+t4WmB0pYYN9kxBdjcSL8NewOhKDYv5AbF/LSTEvrXEMZMwbhN9D0BSvwZ7phhODd3KLWJ0pcbF/ICJRzf2PYxmuC8hSYWMriQVMrqSVMjoSlIhoytJhYyuJBUyupJUyOhKUiGjK0mFjK4kFTK6UuO8Rlotoys1zmuk1TK6UsO8Rlo9oys1zGuk1TO6UsO8Rlo9oys1zGuk1TO6UsO8Rlo9oys1zGuk1fNyPVLjvEZaLaMrNc5rpNVyX0KSChldSSpkdCWpkNGVpEJGV5IKGV1JKmR0JamQ0ZWkQkZXkgoZXUkqZHQlqZDRlaRCRleSChldSSpkdCWpkNGVpEJGV5IKGV1JKmR0JamQ0ZWkQkZXkgoZXUkqZHQlqZDRlaRCkZl9j6EZEfGezPyzvschnc51s45burXe0/cApDNw3SxidCWpkNGVpEJGt5bHzLRSuW4W8YM0SSrklq4kFTK6klTI6EpSIaMrSYUm+h7A5Sgi3n22xzPzL6rGIp0uIm4BXgZ8IzM/3/d4WuO3F8YgInYudzewFXhxZvrLTr2IiHuBVwNfAW4CHszM3+93VG0xumMWEQG8C/gN4N+AD2bmo/2OSq2KiMeA12TmMCKmgIcz83V9j6slbnGNSURMALcDdwFfBX4uM7/V66AkmM/MIUBmznUbBSrklu4YRMQdwK8CXwQ+nJnf7XlIEgARMQc8sXgT+KHudgALmfmavsbWCqM7BhGxABwA/htY+ga7YqtXEXHNcncDLwHuzsy3Fg+pOR5eGI/rlrnvxIpdPBbphKV7XRHxWuAXgHcA/wH8bV/jaonRHQNXbK1UEfFy4OeBdwIHgU8x2uP9iV4H1hCjOwau2FrBHgceBrZm5hMAEfG+fofUFs9IG4/HGX0HcmtmviEzdwLDnsckAfwssA/4x4j484i4idGhLxUxuuPhiq0VKTMfyMxbgVcAXwLeB2yOiI9FxE/1OrhG+O2FMYqIK4BbGB1meBMwAzyQmV/odWDSEhHxIuDtwK2Z+aa+x3O5M7pFXLElgdGVpFIe05WkQkZXkgoZXUkqZHQlqZDRlaRC/wfFeqBVymNbEAAAAABJRU5ErkJggg==\n",
      "text/plain": [
       "<Figure size 432x288 with 1 Axes>"
      ]
     },
     "metadata": {
      "needs_background": "light"
     },
     "output_type": "display_data"
    }
   ],
   "source": [
    "#Classification\n",
    "\n",
    "df=pd.read_csv(r\"C:\\Users\\deepanshu\\covid.csv\")\n",
    "X=df.iloc[:,[3,4]]\n",
    "Y=df.iloc[:,[1]]\n",
    "\n",
    "\n",
    "#data cleaning\n",
    "\n",
    "sns.heatmap(df.isnull(),yticklabels=False,cbar=False,cmap='viridis')\n",
    "sns.boxplot(data=X).set_title(\"Outlier Box Plot\")\n",
    "\n",
    "\n",
    "X=X.fillna(0)\n",
    "Y=Y.fillna(0)\n"
   ]
  },
  {
   "cell_type": "code",
   "execution_count": 13,
   "metadata": {},
   "outputs": [
    {
     "name": "stdout",
     "output_type": "stream",
     "text": [
      "                   TT        AN        AP        AR        AS        BR  \\\n",
      "TT           1.000000  0.133450  0.835178  0.283595  0.467366  0.455605   \n",
      "AN           0.133450  1.000000  0.020404 -0.023840 -0.039781  0.147558   \n",
      "AP           0.835178  0.020404  1.000000  0.291330  0.576251  0.281728   \n",
      "AR           0.283595 -0.023840  0.291330  1.000000 -0.021671  0.310175   \n",
      "AS           0.467366 -0.039781  0.576251 -0.021671  1.000000  0.259344   \n",
      "BR           0.455605  0.147558  0.281728  0.310175  0.259344  1.000000   \n",
      "CH           0.155720  0.137016  0.131376  0.086170  0.174022  0.202269   \n",
      "CT           0.035843  0.108939 -0.009241 -0.036805 -0.025398  0.168073   \n",
      "DN           0.285719 -0.023840  0.404845 -0.012987 -0.021671 -0.050924   \n",
      "DD                NaN       NaN       NaN       NaN       NaN       NaN   \n",
      "DL           0.859128  0.054019  0.675984  0.633926  0.338220  0.427557   \n",
      "GA           0.191328 -0.043736  0.047028 -0.023826  0.118462  0.171563   \n",
      "GJ           0.800194  0.129523  0.648704 -0.042377  0.348383  0.403204   \n",
      "HR           0.749548  0.027127  0.467743  0.063506  0.156642  0.297776   \n",
      "HP           0.616680 -0.061303  0.369711  0.210812  0.133472  0.350741   \n",
      "JK           0.791051  0.337598  0.588313  0.128210  0.220463  0.328002   \n",
      "JH           0.557632 -0.048636  0.674698  0.490163 -0.013422  0.301289   \n",
      "KA           0.733180  0.383039  0.577501  0.308244  0.274463  0.572226   \n",
      "KL           0.466090  0.488248  0.352787  0.213341  0.268083  0.390304   \n",
      "LA          -0.022237 -0.050126 -0.069079 -0.027307 -0.008544  0.171320   \n",
      "LD                NaN       NaN       NaN       NaN       NaN       NaN   \n",
      "MP           0.855027  0.134241  0.730044  0.038000  0.477267  0.360801   \n",
      "MH           0.941248  0.109602  0.733555  0.238877  0.259307  0.430503   \n",
      "MN           0.148594 -0.041838  0.128191  0.569803 -0.038033  0.375362   \n",
      "ML                NaN       NaN       NaN       NaN       NaN       NaN   \n",
      "MZ           0.003258 -0.023840 -0.023021 -0.012987 -0.021671  0.021296   \n",
      "NL                NaN       NaN       NaN       NaN       NaN       NaN   \n",
      "OR           0.563965 -0.038747  0.482068 -0.025056  0.289492  0.072050   \n",
      "PY           0.318069 -0.046016  0.511889  0.626700  0.540809  0.412843   \n",
      "PB           0.673659  0.103492  0.403021 -0.021560  0.260757  0.420896   \n",
      "RJ           0.918032  0.099501  0.766079  0.070496  0.422287  0.275081   \n",
      "SK                NaN       NaN       NaN       NaN       NaN       NaN   \n",
      "TN           0.934344  0.013048  0.869668  0.302689  0.693602  0.462340   \n",
      "TG           0.934051  0.114242  0.748290  0.162569  0.483270  0.361213   \n",
      "TR           0.285719 -0.023840  0.404845 -0.012987 -0.021671 -0.050924   \n",
      "UP           0.893297  0.143767  0.664101  0.060637  0.376341  0.219521   \n",
      "UT           0.782578  0.019905  0.634279  0.218307  0.238743  0.105097   \n",
      "WB           0.621495  0.125361  0.579828  0.396096 -0.008140  0.421641   \n",
      "Unnamed: 40 -0.034789 -0.076279 -0.002264 -0.041546 -0.054670 -0.092845   \n",
      "\n",
      "                   CH        CT        DN  DD  ...        PB        RJ  SK  \\\n",
      "TT           0.155720  0.035843  0.285719 NaN  ...  0.673659  0.918032 NaN   \n",
      "AN           0.137016  0.108939 -0.023840 NaN  ...  0.103492  0.099501 NaN   \n",
      "AP           0.131376 -0.009241  0.404845 NaN  ...  0.403021  0.766079 NaN   \n",
      "AR           0.086170 -0.036805 -0.012987 NaN  ... -0.021560  0.070496 NaN   \n",
      "AS           0.174022 -0.025398 -0.021671 NaN  ...  0.260757  0.422287 NaN   \n",
      "BR           0.202269  0.168073 -0.050924 NaN  ...  0.420896  0.275081 NaN   \n",
      "CH           1.000000  0.263121 -0.040646 NaN  ...  0.130669  0.206466 NaN   \n",
      "CT           0.263121  1.000000 -0.036805 NaN  ...  0.047103 -0.028118 NaN   \n",
      "DN          -0.040646 -0.036805  1.000000 NaN  ...  0.308182  0.277993 NaN   \n",
      "DD                NaN       NaN       NaN NaN  ...       NaN       NaN NaN   \n",
      "DL           0.131607 -0.022392  0.062599 NaN  ...  0.429613  0.724415 NaN   \n",
      "GA          -0.074570  0.209675 -0.023826 NaN  ...  0.107361  0.154050 NaN   \n",
      "GJ           0.195083  0.177705  0.334751 NaN  ...  0.766588  0.793085 NaN   \n",
      "HR          -0.034946 -0.013007  0.322271 NaN  ...  0.728743  0.651863 NaN   \n",
      "HP           0.038150  0.002491  0.292214 NaN  ...  0.731542  0.492026 NaN   \n",
      "JK           0.119098  0.102229  0.018797 NaN  ...  0.512729  0.716002 NaN   \n",
      "JH           0.111118  0.001976  0.490163 NaN  ...  0.157830  0.480554 NaN   \n",
      "KA           0.200242  0.195533  0.253476 NaN  ...  0.605319  0.551109 NaN   \n",
      "KL           0.510643  0.162481  0.103047 NaN  ...  0.407577  0.400812 NaN   \n",
      "LA           0.003419 -0.077387 -0.027307 NaN  ...  0.026889 -0.021166 NaN   \n",
      "LD                NaN       NaN       NaN NaN  ...       NaN       NaN NaN   \n",
      "MP           0.093613  0.031370  0.559463 NaN  ...  0.661240  0.800334 NaN   \n",
      "MH           0.039848  0.014792  0.349865 NaN  ...  0.711865  0.840575 NaN   \n",
      "MN           0.002853 -0.064593 -0.022792 NaN  ...  0.039322 -0.019736 NaN   \n",
      "ML                NaN       NaN       NaN NaN  ...       NaN       NaN NaN   \n",
      "MZ          -0.040646  0.265384 -0.012987 NaN  ...  0.011414  0.004474 NaN   \n",
      "NL                NaN       NaN       NaN NaN  ...       NaN       NaN NaN   \n",
      "OR          -0.056672 -0.038619  0.018375 NaN  ...  0.200153  0.692834 NaN   \n",
      "PY           0.247924 -0.022434 -0.025068 NaN  ...  0.106896  0.142142 NaN   \n",
      "PB           0.130669  0.047103  0.308182 NaN  ...  1.000000  0.614703 NaN   \n",
      "RJ           0.206466 -0.028118  0.277993 NaN  ...  0.614703  1.000000 NaN   \n",
      "SK                NaN       NaN       NaN NaN  ...       NaN       NaN NaN   \n",
      "TN           0.164077  0.000808  0.186568 NaN  ...  0.546500  0.847807 NaN   \n",
      "TG           0.043597 -0.027224  0.186390 NaN  ...  0.565568  0.899081 NaN   \n",
      "TR          -0.040646 -0.036805  1.000000 NaN  ...  0.308182  0.277993 NaN   \n",
      "UP           0.112882  0.049686  0.224435 NaN  ...  0.603860  0.869760 NaN   \n",
      "UT          -0.041981  0.134277  0.393853 NaN  ...  0.419560  0.715057 NaN   \n",
      "WB           0.155602  0.152795 -0.040975 NaN  ...  0.287658  0.587147 NaN   \n",
      "Unnamed: 40 -0.109573 -0.097407 -0.041546 NaN  ... -0.063641  0.003216 NaN   \n",
      "\n",
      "                   TN        TG        TR        UP        UT        WB  \\\n",
      "TT           0.934344  0.934051  0.285719  0.893297  0.782578  0.621495   \n",
      "AN           0.013048  0.114242 -0.023840  0.143767  0.019905  0.125361   \n",
      "AP           0.869668  0.748290  0.404845  0.664101  0.634279  0.579828   \n",
      "AR           0.302689  0.162569 -0.012987  0.060637  0.218307  0.396096   \n",
      "AS           0.693602  0.483270 -0.021671  0.376341  0.238743 -0.008140   \n",
      "BR           0.462340  0.361213 -0.050924  0.219521  0.105097  0.421641   \n",
      "CH           0.164077  0.043597 -0.040646  0.112882 -0.041981  0.155602   \n",
      "CT           0.000808 -0.027224 -0.036805  0.049686  0.134277  0.152795   \n",
      "DN           0.186568  0.186390  1.000000  0.224435  0.393853 -0.040975   \n",
      "DD                NaN       NaN       NaN       NaN       NaN       NaN   \n",
      "DL           0.820440  0.810399  0.062599  0.718353  0.722818  0.595364   \n",
      "GA           0.179153  0.187957 -0.023826  0.250764  0.308489 -0.032217   \n",
      "GJ           0.688120  0.698966  0.334751  0.709921  0.523969  0.524947   \n",
      "HR           0.576249  0.647294  0.322271  0.710303  0.583652  0.322983   \n",
      "HP           0.502152  0.465262  0.292214  0.572196  0.427360  0.289761   \n",
      "JK           0.630009  0.698655  0.018797  0.746192  0.560025  0.530209   \n",
      "JH           0.541718  0.457206  0.490163  0.363893  0.445376  0.724494   \n",
      "KA           0.628778  0.575572  0.253476  0.643028  0.506003  0.451933   \n",
      "KL           0.386935  0.343804  0.103047  0.381047  0.229330  0.262293   \n",
      "LA          -0.032148  0.054527 -0.027307 -0.035738  0.013013 -0.067010   \n",
      "LD                NaN       NaN       NaN       NaN       NaN       NaN   \n",
      "MP           0.782815  0.809263  0.559463  0.739348  0.723929  0.301367   \n",
      "MH           0.809578  0.834686  0.349865  0.847805  0.740791  0.610656   \n",
      "MN           0.153523  0.108799 -0.022792 -0.007371  0.075045  0.215735   \n",
      "ML                NaN       NaN       NaN       NaN       NaN       NaN   \n",
      "MZ          -0.008516 -0.020054 -0.012987 -0.021262  0.042761 -0.040975   \n",
      "NL                NaN       NaN       NaN       NaN       NaN       NaN   \n",
      "OR           0.611271  0.741227  0.018375  0.623940  0.571715  0.534648   \n",
      "PY           0.473685  0.193741 -0.025068  0.057762  0.110776  0.228488   \n",
      "PB           0.546500  0.565568  0.308182  0.603860  0.419560  0.287658   \n",
      "RJ           0.847807  0.899081  0.277993  0.869760  0.715057  0.587147   \n",
      "SK                NaN       NaN       NaN       NaN       NaN       NaN   \n",
      "TN           1.000000  0.901199  0.186568  0.801149  0.685263  0.566596   \n",
      "TG           0.901199  1.000000  0.186390  0.879624  0.803560  0.563456   \n",
      "TR           0.186568  0.186390  1.000000  0.224435  0.393853 -0.040975   \n",
      "UP           0.801149  0.879624  0.224435  1.000000  0.835527  0.435912   \n",
      "UT           0.685263  0.803560  0.393853  0.835527  1.000000  0.350308   \n",
      "WB           0.566596  0.563456 -0.040975  0.435912  0.350308  1.000000   \n",
      "Unnamed: 40 -0.012913 -0.004381 -0.041546 -0.035728 -0.070617  0.082773   \n",
      "\n",
      "             Unnamed: 40  \n",
      "TT             -0.034789  \n",
      "AN             -0.076279  \n",
      "AP             -0.002264  \n",
      "AR             -0.041546  \n",
      "AS             -0.054670  \n",
      "BR             -0.092845  \n",
      "CH             -0.109573  \n",
      "CT             -0.097407  \n",
      "DN             -0.041546  \n",
      "DD                   NaN  \n",
      "DL             -0.053840  \n",
      "GA             -0.076235  \n",
      "GJ             -0.009512  \n",
      "HR             -0.050389  \n",
      "HP             -0.027749  \n",
      "JK             -0.043015  \n",
      "JH              0.054710  \n",
      "KA             -0.141065  \n",
      "KL             -0.191775  \n",
      "LA             -0.087381  \n",
      "LD                   NaN  \n",
      "MP             -0.033857  \n",
      "MH             -0.000149  \n",
      "MN             -0.072926  \n",
      "ML                   NaN  \n",
      "MZ             -0.041546  \n",
      "NL                   NaN  \n",
      "OR              0.087499  \n",
      "PY             -0.080212  \n",
      "PB             -0.063641  \n",
      "RJ              0.003216  \n",
      "SK                   NaN  \n",
      "TN             -0.012913  \n",
      "TG             -0.004381  \n",
      "TR             -0.041546  \n",
      "UP             -0.035728  \n",
      "UT             -0.070617  \n",
      "WB              0.082773  \n",
      "Unnamed: 40     1.000000  \n",
      "\n",
      "[39 rows x 39 columns]\n"
     ]
    },
    {
     "data": {
      "text/plain": [
       "<matplotlib.axes._subplots.AxesSubplot at 0xcb5dac8>"
      ]
     },
     "execution_count": 13,
     "metadata": {},
     "output_type": "execute_result"
    },
    {
     "data": {
      "image/png": "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\n",
      "text/plain": [
       "<Figure size 432x288 with 2 Axes>"
      ]
     },
     "metadata": {
      "needs_background": "light"
     },
     "output_type": "display_data"
    }
   ],
   "source": [
    "#checking collinearity\n",
    "multicolinearity_check = df.corr()\n",
    "print(multicolinearity_check)\n",
    "\n",
    "sns.heatmap(multicolinearity_check,xticklabels=multicolinearity_check.columns,yticklabels=multicolinearity_check.columns)"
   ]
  },
  {
   "cell_type": "code",
   "execution_count": 14,
   "metadata": {},
   "outputs": [
    {
     "name": "stderr",
     "output_type": "stream",
     "text": [
      "C:\\Users\\deepanshu\\Anaconda3\\lib\\site-packages\\sklearn\\utils\\validation.py:724: DataConversionWarning: A column-vector y was passed when a 1d array was expected. Please change the shape of y to (n_samples, ), for example using ravel().\n",
      "  y = column_or_1d(y, warn=True)\n"
     ]
    },
    {
     "name": "stdout",
     "output_type": "stream",
     "text": [
      "logistic==== 0.5\n",
      "['Deceased' 'Confirmed' 'Confirmed' 'Confirmed' 'Deceased' 'Deceased'\n",
      " 'Deceased' 'Confirmed' 'Deceased' 'Deceased' 'Deceased' 'Deceased'\n",
      " 'Deceased' 'Deceased' 'Deceased' 'Deceased' 'Deceased' 'Deceased'\n",
      " 'Deceased' 'Deceased' 'Deceased' 'Deceased' 'Confirmed' 'Deceased']\n",
      "Confusion table\n",
      "[[ 4  1  0]\n",
      " [ 0  8  0]\n",
      " [ 1 10  0]]\n"
     ]
    },
    {
     "data": {
      "image/png": "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\n",
      "text/plain": [
       "<Figure size 432x288 with 2 Axes>"
      ]
     },
     "metadata": {
      "needs_background": "light"
     },
     "output_type": "display_data"
    }
   ],
   "source": [
    "from sklearn.model_selection import train_test_split\n",
    "X_train, X_test, y_train, y_test = train_test_split(X,Y,test_size=0.3,random_state = 4)\n",
    "\n",
    "\n",
    "LogisticRegression\n",
    "lr = LogisticRegression(solver='liblinear',multi_class='ovr')\n",
    "lr.fit(X_train, y_train)\n",
    "print(\"logistic====\",lr.score(X_test, y_test))\n",
    "\n",
    "y_pred=lr.predict(X_test)\n",
    "print(y_pred)\n",
    "\n",
    "cm = confusion_matrix(y_test,y_pred )\n",
    "#enhancing the veiw\n",
    "sns.heatmap(cm, annot=True, fmt=\"d\",linewidths='.5',cmap=\"YlGnBu\")\n",
    "print(\"Confusion table\")\n",
    "print(cm)\n",
    "\n",
    "\n",
    "\n"
   ]
  },
  {
   "cell_type": "code",
   "execution_count": 15,
   "metadata": {},
   "outputs": [
    {
     "name": "stderr",
     "output_type": "stream",
     "text": [
      "C:\\Users\\deepanshu\\Anaconda3\\lib\\site-packages\\sklearn\\utils\\validation.py:724: DataConversionWarning: A column-vector y was passed when a 1d array was expected. Please change the shape of y to (n_samples, ), for example using ravel().\n",
      "  y = column_or_1d(y, warn=True)\n"
     ]
    },
    {
     "name": "stdout",
     "output_type": "stream",
     "text": [
      "gn===== 0.4583333333333333\n",
      "['Deceased' 'Confirmed' 'Confirmed' 'Confirmed' 'Deceased' 'Deceased'\n",
      " 'Deceased' 'Deceased' 'Deceased' 'Deceased' 'Deceased' 'Deceased'\n",
      " 'Deceased' 'Deceased' 'Deceased' 'Deceased' 'Deceased' 'Deceased'\n",
      " 'Deceased' 'Deceased' 'Deceased' 'Deceased' 'Confirmed' 'Deceased']\n",
      "Confusion table\n",
      "[[ 3  2  0]\n",
      " [ 0  8  0]\n",
      " [ 1 10  0]]\n"
     ]
    },
    {
     "data": {
      "image/png": "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\n",
      "text/plain": [
       "<Figure size 432x288 with 2 Axes>"
      ]
     },
     "metadata": {
      "needs_background": "light"
     },
     "output_type": "display_data"
    }
   ],
   "source": [
    "from sklearn.naive_bayes import GaussianNB\n",
    "gnb=GaussianNB()\n",
    "gn=gnb.fit(X_train,y_train)\n",
    "print(\"gn=====\",gn.score(X_test, y_test))\n",
    "y_pred=gn.predict(X_test)\n",
    "print(y_pred)\n",
    "\n",
    "\n",
    "cm = confusion_matrix(y_test,y_pred )\n",
    "#enhancing the veiw\n",
    "sns.heatmap(cm, annot=True, fmt=\"d\",linewidths='.5',cmap=\"YlGnBu\")\n",
    "print(\"Confusion table\")\n",
    "print(cm)\n"
   ]
  },
  {
   "cell_type": "code",
   "execution_count": 16,
   "metadata": {},
   "outputs": [
    {
     "name": "stderr",
     "output_type": "stream",
     "text": [
      "C:\\Users\\deepanshu\\Anaconda3\\lib\\site-packages\\sklearn\\utils\\validation.py:724: DataConversionWarning: A column-vector y was passed when a 1d array was expected. Please change the shape of y to (n_samples, ), for example using ravel().\n",
      "  y = column_or_1d(y, warn=True)\n"
     ]
    },
    {
     "name": "stdout",
     "output_type": "stream",
     "text": [
      "svm===== 0.5\n",
      "Confusion table\n",
      "[[ 4  1  0]\n",
      " [ 0  8  0]\n",
      " [ 1 10  0]]\n",
      "['Deceased' 'Confirmed' 'Confirmed' 'Confirmed' 'Deceased' 'Deceased'\n",
      " 'Deceased' 'Confirmed' 'Deceased' 'Deceased' 'Deceased' 'Deceased'\n",
      " 'Deceased' 'Deceased' 'Deceased' 'Deceased' 'Deceased' 'Deceased'\n",
      " 'Deceased' 'Deceased' 'Deceased' 'Deceased' 'Confirmed' 'Deceased']\n"
     ]
    },
    {
     "data": {
      "image/png": "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\n",
      "text/plain": [
       "<Figure size 432x288 with 2 Axes>"
      ]
     },
     "metadata": {
      "needs_background": "light"
     },
     "output_type": "display_data"
    }
   ],
   "source": [
    "#SVn\n",
    "svm = SVC(gamma='auto')\n",
    "svm.fit(X_train, y_train)\n",
    "print(\"svm=====\",svm.score(X_test, y_test))\n",
    "\n",
    "y_pred=svm.predict(X_test)\n",
    "\n",
    "cm = confusion_matrix(y_test,y_pred )\n",
    "#enhancing the veiw\n",
    "sns.heatmap(cm, annot=True, fmt=\"d\",linewidths='.5',cmap=\"YlGnBu\")\n",
    "print(\"Confusion table\")\n",
    "print(cm)\n",
    "\n",
    "\n",
    "print(y_pred)\n",
    "\n",
    "\n"
   ]
  },
  {
   "cell_type": "code",
   "execution_count": 17,
   "metadata": {},
   "outputs": [
    {
     "name": "stderr",
     "output_type": "stream",
     "text": [
      "C:\\Users\\deepanshu\\Anaconda3\\lib\\site-packages\\ipykernel_launcher.py:4: DataConversionWarning: A column-vector y was passed when a 1d array was expected. Please change the shape of y to (n_samples, ), for example using ravel().\n",
      "  after removing the cwd from sys.path.\n"
     ]
    },
    {
     "name": "stdout",
     "output_type": "stream",
     "text": [
      "knn==== 0.5833333333333334\n",
      "Confusion table\n",
      "[[ 4  1  0]\n",
      " [ 0  8  0]\n",
      " [ 1 10  0]]\n"
     ]
    },
    {
     "data": {
      "image/png": "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\n",
      "text/plain": [
       "<Figure size 432x288 with 2 Axes>"
      ]
     },
     "metadata": {
      "needs_background": "light"
     },
     "output_type": "display_data"
    }
   ],
   "source": [
    "#knn \n",
    "      \n",
    "k = KNeighborsClassifier(15)\n",
    "k.fit(X_train, y_train)\n",
    "print(\"knn====\",k.score(X_test, y_test))\n",
    "\n",
    "\n",
    "sns.heatmap(cm, annot=True, fmt=\"d\",linewidths='.5',cmap=\"YlGnBu\")\n",
    "print(\"Confusion table\")\n",
    "print(cm)\n"
   ]
  },
  {
   "cell_type": "markdown",
   "metadata": {},
   "source": [
    "from the above classifications models knn comes out to be the best with accuracy score=0.58"
   ]
  },
  {
   "cell_type": "markdown",
   "metadata": {},
   "source": [
    " ### Comparing The models"
   ]
  },
  {
   "cell_type": "markdown",
   "metadata": {},
   "source": [
    "#### ROC Curve it is not valid for multi class classification"
   ]
  },
  {
   "cell_type": "markdown",
   "metadata": {},
   "source": [
    "It is a plot of the false positive rate (x-axis) versus the true positive rate (y-axis) for a number of different candidate threshold values between 0.0 and 1.0. Put another way, it plots the false alarm rate versus the hit rate.\n",
    "\n",
    "True Positive Rate or sensitivity = True Positives / (True Positives + False Negatives)\n",
    "\n",
    "\n",
    "False Positive Rate or inverted specificity = False Positives / (False Positives + True Negatives)"
   ]
  },
  {
   "cell_type": "code",
   "execution_count": null,
   "metadata": {},
   "outputs": [],
   "source": [
    "\n",
    "\n",
    "# predict probabilities and keep probabilities for the positive outcome only\n",
    "svm_probs = svc.predict_proba(Svm)\n",
    "svm_probs = svm_probs[:, 1]\n",
    "lr_probs = lr.predict_proba(logic)\n",
    "lr_probs = lr_probs[:, 1]\n",
    "#kn_probs=k.predict_proba(knn)\n",
    "#kn_probs=kn_probs[:, 1]\n",
    "\n",
    "# calculate scores\n",
    "svm_auc = roc_auc_score(y_test, svm_probs)\n",
    "lr_auc = roc_auc_score(y_test, lr_probs)\n",
    "#kn_auc=roc_auc_score(y_test,kn_probs)\n",
    "# calculate roc curves\n",
    "svm_fpr, svm_tpr, _ = roc_curve(y_test, dt_probs)\n",
    "lr_fpr, lr_tpr, _ = roc_curve(y_test, lr_probs)\n",
    "#kn_fpr,kn_tpr, _= roc_curve(y_test,kn_probs)\n",
    "# plot the roc curve for the model\n",
    "plt.title(\"ROC curve\")\n",
    "plt.plot(svm_fpr, svm_tpr, linestyle='--', label='svm_probs')\n",
    "plt.plot(lr_fpr, lr_tpr, linestyle=':', label='Logistic Regression')\n",
    "#plt.plot(kn_fpr,kn_tpr,kn_tpr, linestyle='>>',label='Knn regression')\n",
    "# axis labels\n",
    "plt.xlabel('False Positive Rate')\n",
    "plt.ylabel('True Positive Rate')\n",
    "# show the legend\n",
    "plt.legend()\n",
    "# show the plot\n",
    "plt.show()\n",
    "# summarize scores\n",
    "print('svm: ROC AUC=%.3f' % (svm_auc))\n",
    "print('Logistic Regression: ROC AUC=%.3f' % (lr_auc))\n",
    "#print('knn: ROC AUC=%.3f' % (kn_probs))"
   ]
  },
  {
   "cell_type": "code",
   "execution_count": null,
   "metadata": {},
   "outputs": [],
   "source": [
    "svm_fpr"
   ]
  },
  {
   "cell_type": "code",
   "execution_count": null,
   "metadata": {},
   "outputs": [],
   "source": []
  },
  {
   "cell_type": "code",
   "execution_count": null,
   "metadata": {},
   "outputs": [],
   "source": []
  }
 ],
 "metadata": {
  "kernelspec": {
   "display_name": "Python 3",
   "language": "python",
   "name": "python3"
  },
  "language_info": {
   "codemirror_mode": {
    "name": "ipython",
    "version": 3
   },
   "file_extension": ".py",
   "mimetype": "text/x-python",
   "name": "python",
   "nbconvert_exporter": "python",
   "pygments_lexer": "ipython3",
   "version": "3.7.4"
  }
 },
 "nbformat": 4,
 "nbformat_minor": 2
}
